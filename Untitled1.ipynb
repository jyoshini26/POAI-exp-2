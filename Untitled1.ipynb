{
  "nbformat": 4,
  "nbformat_minor": 0,
  "metadata": {
    "colab": {
      "provenance": [],
      "authorship_tag": "ABX9TyMQpy2d+72vNCw4T+cZEIYi",
      "include_colab_link": true
    },
    "kernelspec": {
      "name": "python3",
      "display_name": "Python 3"
    },
    "language_info": {
      "name": "python"
    }
  },
  "cells": [
    {
      "cell_type": "markdown",
      "metadata": {
        "id": "view-in-github",
        "colab_type": "text"
      },
      "source": [
        "<a href=\"https://colab.research.google.com/github/jyoshini26/POAI-exp-2/blob/main/Untitled1.ipynb\" target=\"_parent\"><img src=\"https://colab.research.google.com/assets/colab-badge.svg\" alt=\"Open In Colab\"/></a>"
      ]
    },
    {
      "cell_type": "code",
      "execution_count": 1,
      "metadata": {
        "colab": {
          "base_uri": "https://localhost:8080/"
        },
        "id": "nR2ctScnklPq",
        "outputId": "2b003b74-46c2-4d11-b529-8023978217d5"
      },
      "outputs": [
        {
          "output_type": "stream",
          "name": "stdout",
          "text": [
            "Path found:\n",
            "[(0, 0), (1, 0), (1, 1), (2, 1), (3, 1), (3, 2), (3, 3)]\n"
          ]
        }
      ],
      "source": [
        "def is_valid(maze, visited, x, y):\n",
        "    return 0 <= x < len(maze) and 0 <= y < len(maze[0]) and maze[x][y] == 1 and not visited[x][y]\n",
        "\n",
        "def dfs(maze, x, y, visited, path):\n",
        "    if x == len(maze) - 1 and y == len(maze[0]) - 1:\n",
        "        path.append((x, y))\n",
        "        return True\n",
        "\n",
        "    if is_valid(maze, visited, x, y):\n",
        "        visited[x][y] = True\n",
        "        path.append((x, y))\n",
        "\n",
        "        if dfs(maze, x + 1, y, visited, path):\n",
        "            return True\n",
        "        if dfs(maze, x, y + 1, visited, path):\n",
        "            return True\n",
        "        if dfs(maze, x - 1, y, visited, path):\n",
        "            return True\n",
        "        if dfs(maze, x, y - 1, visited, path):\n",
        "            return True\n",
        "\n",
        "        path.pop()\n",
        "        visited[x][y] = False\n",
        "\n",
        "    return False\n",
        "\n",
        "maze = [\n",
        "    [1, 0, 1, 1],\n",
        "    [1, 1, 1, 0],\n",
        "    [0, 1, 0, 1],\n",
        "    [1, 1, 1, 1]\n",
        "]\n",
        "\n",
        "n = len(maze)\n",
        "visited = [[False] * n for _ in range(n)]\n",
        "path = []\n",
        "\n",
        "if dfs(maze, 0, 0, visited, path):\n",
        "    print(\"Path found:\")\n",
        "    print(path)\n",
        "else:\n",
        "    print(\"No path found.\")\n"
      ]
    }
  ]
}